{
 "cells": [
  {
   "cell_type": "code",
   "execution_count": null,
   "id": "36c0986e",
   "metadata": {},
   "outputs": [
    {
     "ename": "",
     "evalue": "",
     "output_type": "error",
     "traceback": [
      "\u001b[1;31mJupyter cannot be started. Error attempting to locate Jupyter: Running cells with 'studysession' requires jupyter and notebook package.\n",
      "\u001b[1;31mRun the following command to install 'jupyter and notebook' into the Python environment. \n",
      "\u001b[1;31mCommand: 'python -m pip install jupyter notebook -U\n",
      "\u001b[1;31mor\n",
      "\u001b[1;31mconda install jupyter notebook -U'\n",
      "\u001b[1;31mClick <a href='https://aka.ms/installJupyterForVSCode'>here</a> for more info."
     ]
    }
   ],
   "source": [
    "#open comment if you run in jupyter-notebook\n",
    "#%matplotlib notebook\n",
    "\n",
    "import numpy as np\n",
    "import matplotlib.pyplot as plt\n",
    "from matplotlib.animation import FuncAnimation\n",
    "\n",
    "def create_universe(N=50, p=0.5):\n",
    "    return np.random.choice([0, 1], size=(N, N), p=[1-p, p])\n",
    "\n",
    "def animate(frame, universe, img):\n",
    "    new_universe = np.zeros((N+2, N+2))\n",
    "    new_universe[1:-1, 1:-1] = universe\n",
    "    for i in range(1, N+1):\n",
    "        for j in range(1, N+1):\n",
    "            n = (new_universe[i+1][j] + new_universe[i-1][j]\n",
    "                 + new_universe[i][j+1] + new_universe[i][j-1]\n",
    "                 + new_universe[i+1][j+1] + new_universe[i-1][j-1]\n",
    "                 + new_universe[i+1][j-1] + new_universe[i-1][j+1])\n",
    "            if new_universe[i][j] == 0 and n == 3:\n",
    "                universe[i-1][j-1] = 1\n",
    "            elif new_universe[i][j] == 1 and (n < 2 or n > 3):\n",
    "                universe[i-1][j-1] = 0\n",
    "            else:\n",
    "                universe[i-1][j-1] = new_universe[i][j]\n",
    "    img.set_data(universe)\n",
    "    return img\n",
    "\n",
    "N = 50\n",
    "universe = create_universe(N=N, p=0.5)\n",
    "fig = plt.figure(figsize=(7, 7))\n",
    "ax = plt.axes()\n",
    "img = ax.imshow(universe, interpolation='nearest')\n",
    "ani = FuncAnimation(fig, animate, fargs=(universe, img,),\n",
    "                    frames=None, interval=500, save_count=50)\n",
    "\n",
    "plt.show() \n",
    " \n"
   ]
  }
 ],
 "metadata": {
  "kernelspec": {
   "display_name": "studysession",
   "language": "python",
   "name": "python3"
  },
  "language_info": {
   "codemirror_mode": {
    "name": "ipython",
    "version": 3
   },
   "file_extension": ".py",
   "mimetype": "text/x-python",
   "name": "python",
   "nbconvert_exporter": "python",
   "pygments_lexer": "ipython3",
   "version": "3.11.1 (v3.11.1:a7a450f84a, Dec  6 2022, 15:24:06) [Clang 13.0.0 (clang-1300.0.29.30)]"
  },
  "vscode": {
   "interpreter": {
    "hash": "3ba5e9552c4bd49bc41e3f6e1b1a4c48722b4702efbc9cf18ed7b8bc6db66bc2"
   }
  }
 },
 "nbformat": 4,
 "nbformat_minor": 5
}
